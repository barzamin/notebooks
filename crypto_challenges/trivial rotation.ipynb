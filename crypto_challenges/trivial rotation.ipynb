{
 "cells": [
  {
   "cell_type": "code",
   "execution_count": 1,
   "metadata": {
    "collapsed": true
   },
   "outputs": [],
   "source": [
    "# we were given a string\n",
    "raw = 'MTgtMTEgNi0xOC0xOC0xNSAyLTE4LTI0IDktMTgtMjQtMTctNyAxMi0yMy4gMTAtMTgtMTgtNyAx My0xOC01Lg=='\n",
    "# it looks a lot like base64"
   ]
  },
  {
   "cell_type": "code",
   "execution_count": 2,
   "metadata": {},
   "outputs": [
    {
     "data": {
      "text/plain": [
       "'18-11 6-18-18-15 2-18-24 9-18-24-17-7 12-23. 10-18-18-7 13-18-5.'"
      ]
     },
     "execution_count": 2,
     "metadata": {},
     "output_type": "execute_result"
    }
   ],
   "source": [
    "# try decoding it as b64\n",
    "from base64 import b64decode\n",
    "s = b64decode(raw).decode()\n",
    "s"
   ]
  },
  {
   "cell_type": "code",
   "execution_count": 3,
   "metadata": {
    "collapsed": true
   },
   "outputs": [],
   "source": [
    "# cool, that was it.\n",
    "# this looks a *lot* like text, encoded in some very simple scheme.\n",
    "# i'm going to assume each chunk of numbers represents a sentence, and spaces/periods are literal.\n",
    "# all of the numbers fall in [0,26], as we'd expect if we were dealing with naive\n",
    "# index-encoding. let's try decoding it that way"
   ]
  },
  {
   "cell_type": "code",
   "execution_count": 4,
   "metadata": {},
   "outputs": [],
   "source": [
    "sentences = [[int(x.replace('.', '')) for x in sentence.split('-')] for sentence in s.split(' ')]"
   ]
  },
  {
   "cell_type": "code",
   "execution_count": 5,
   "metadata": {},
   "outputs": [
    {
     "data": {
      "text/plain": [
       "'sl gssp csy jsyrh mx kssh nsf'"
      ]
     },
     "execution_count": 5,
     "metadata": {},
     "output_type": "execute_result"
    }
   ],
   "source": [
    "# naive index mapping\n",
    "from string import ascii_lowercase\n",
    "\" \".join([\"\".join(ascii_lowercase[x] for x in st) for st in sentences])"
   ]
  },
  {
   "cell_type": "code",
   "execution_count": 6,
   "metadata": {},
   "outputs": [
    {
     "data": {
      "text/plain": [
       "['sl gssp csy jsyrh mx kssh nsf',\n",
       " 'tm httq dtz ktzsi ny ltti otg',\n",
       " 'un iuur eua luatj oz muuj puh',\n",
       " 'vo jvvs fvb mvbuk pa nvvk qvi',\n",
       " 'wp kwwt gwc nwcvl qb owwl rwj',\n",
       " 'xq lxxu hxd oxdwm rc pxxm sxk',\n",
       " 'yr myyv iye pyexn sd qyyn tyl',\n",
       " 'zs nzzw jzf qzfyo te rzzo uzm',\n",
       " 'at oaax kag ragzp uf saap van',\n",
       " 'bu pbby lbh sbhaq vg tbbq wbo',\n",
       " 'cv qccz mci tcibr wh uccr xcp',\n",
       " 'dw rdda ndj udjcs xi vdds ydq',\n",
       " 'ex seeb oek vekdt yj weet zer',\n",
       " 'fy tffc pfl wfleu zk xffu afs',\n",
       " 'gz uggd qgm xgmfv al yggv bgt',\n",
       " 'ha vhhe rhn yhngw bm zhhw chu',\n",
       " 'ib wiif sio ziohx cn aiix div',\n",
       " 'jc xjjg tjp ajpiy do bjjy ejw',\n",
       " 'kd ykkh ukq bkqjz ep ckkz fkx',\n",
       " 'le zlli vlr clrka fq dlla gly',\n",
       " 'mf ammj wms dmslb gr emmb hmz',\n",
       " 'ng bnnk xnt entmc hs fnnc ina',\n",
       " 'oh cool you found it good job',\n",
       " 'pi dppm zpv gpvoe ju hppe kpc',\n",
       " 'qj eqqn aqw hqwpf kv iqqf lqd',\n",
       " 'rk frro brx irxqg lw jrrg mre']"
      ]
     },
     "execution_count": 6,
     "metadata": {},
     "output_type": "execute_result"
    }
   ],
   "source": [
    "# obviously incorrect, but it looks like the index mapping could be rotated.\n",
    "# let's try every possible rotation\n",
    "[\" \".join([\"\".join(ascii_lowercase[(x+rot)%len(ascii_lowercase)] for x in st) for st in sentences])\n",
    " for rot in range(len(ascii_lowercase))]"
   ]
  },
  {
   "cell_type": "code",
   "execution_count": 7,
   "metadata": {
    "collapsed": true
   },
   "outputs": [],
   "source": [
    "# 'oh cool you found it good job'\n",
    "# is the only real English sentence in there, and is our answer."
   ]
  }
 ],
 "metadata": {
  "kernelspec": {
   "display_name": "Python 3",
   "language": "python",
   "name": "python3"
  },
  "language_info": {
   "codemirror_mode": {
    "name": "ipython",
    "version": 3
   },
   "file_extension": ".py",
   "mimetype": "text/x-python",
   "name": "python",
   "nbconvert_exporter": "python",
   "pygments_lexer": "ipython3",
   "version": "3.6.1"
  }
 },
 "nbformat": 4,
 "nbformat_minor": 2
}
